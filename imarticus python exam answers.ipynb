{
 "cells": [
  {
   "cell_type": "code",
   "execution_count": 9,
   "id": "0283a41f",
   "metadata": {},
   "outputs": [
    {
     "name": "stdout",
     "output_type": "stream",
     "text": [
      "positive sentiments: ['He is a good boy', 'he is an awesome player', 'She is the best', 'These burger are really nice']\n",
      "\n",
      "negative sentiments: ['Food is the worst here', 'This pizza tastes awful']\n"
     ]
    }
   ],
   "source": [
    "# Question 1 answer\n",
    "\n",
    "positive=['good','awesome','best','nice']\n",
    "negative=['worst','awful']\n",
    "comments=['He is a good boy','Food is the worst here','he is an awesome player','She is the best','This pizza tastes awful','These burger are really nice']\n",
    "\n",
    "pos=[]\n",
    "neg=[]\n",
    "for i in comments:\n",
    "    for j in positive:\n",
    "        if j in i:\n",
    "            pos.append(i)\n",
    "\n",
    "for i in comments:\n",
    "    for j in negative:\n",
    "        if j in i:\n",
    "            neg.append(i)\n",
    "            \n",
    "print(\"positive sentiments:\",pos)\n",
    "print()\n",
    "print(\"negative sentiments:\",neg)"
   ]
  },
  {
   "cell_type": "code",
   "execution_count": null,
   "id": "f041d570",
   "metadata": {},
   "outputs": [],
   "source": [
    "#question 2 answer\n",
    "\n",
    "import math\n",
    "d={'Square':lambda a:a*a ,'Cube': lambda b: b*b*b , 'Squareroot': lambda c:math.sqrt(c)}\n",
    "\n",
    "a=int(input(\"Enter a value:\"))\n",
    "s=0\n",
    "for i in d:\n",
    "    s=s+d[i](a)\n",
    "print('Output:',s)"
   ]
  },
  {
   "cell_type": "code",
   "execution_count": null,
   "id": "945cd846",
   "metadata": {},
   "outputs": [],
   "source": [
    "#question 3 answer\n",
    "\n",
    "fruits=(('Lemon','sour'),('DragonFruit','Sweet'),('Grapes','soUr'),('Kiwi','Sour'),('Apples','sweet'),('Orange','sour'),('Blueberries','sweet'),('Lime','Sour'))\n",
    "s=[]\n",
    "\n",
    "for i in fruits:\n",
    "    if i[1].lower()=='sour':\n",
    "        s.append(i[0])\n",
    "print('Sour Fruits :',s)"
   ]
  },
  {
   "cell_type": "code",
   "execution_count": 17,
   "id": "017fb7d6",
   "metadata": {},
   "outputs": [
    {
     "name": "stdout",
     "output_type": "stream",
     "text": [
      "Output: ['hOw', 'ARe']\n"
     ]
    }
   ],
   "source": [
    "#question 4 answer\n",
    "\n",
    "ls=['hello','Dear','hOw','ARe','You']\n",
    "a=[]\n",
    "\n",
    "for i in ls:\n",
    "    if i[1]>='A' and i[1]<='Z':\n",
    "        a.append(i)\n",
    "print(\"Output:\",a)\n",
    "        "
   ]
  },
  {
   "cell_type": "code",
   "execution_count": 45,
   "id": "a193a702",
   "metadata": {},
   "outputs": [
    {
     "name": "stdout",
     "output_type": "stream",
     "text": [
      "Output: Weight on Moon: {'Jhon': 7.44, 'Shelly': 10.75, 'Marry': 5.79}\n"
     ]
    }
   ],
   "source": [
    "# question 5 answer\n",
    "\n",
    "WeightOnEarth={'Jhon':45,'Shelly':65,'Marry':35}\n",
    "\n",
    "x=lambda wEarth: (wEarth*1.622)/9.81\n",
    "\n",
    "WeightOnMoon={'Jhon':round(x(45),2),'Shelly':round(x(65),2),'Marry':round(x(35),2)}\n",
    "\n",
    "print('Output: Weight on Moon:',WeightOnMoon)\n",
    "    \n"
   ]
  },
  {
   "cell_type": "code",
   "execution_count": 23,
   "id": "3455251c",
   "metadata": {},
   "outputs": [
    {
     "name": "stdout",
     "output_type": "stream",
     "text": [
      "Output: ['Maria', 'Hello', 'World', 'Merry', 'You']\n"
     ]
    }
   ],
   "source": [
    "# question 6 answer\n",
    "\n",
    "namesList=['santa Maria','Hello World','Merry christmas','tHank You']\n",
    "l=[]\n",
    "a=[]\n",
    "\n",
    "for i in namesList:\n",
    "    x=i.split(\" \")\n",
    "    l.extend(x)\n",
    "\n",
    "for i in l:\n",
    "    if i[0]>='A' and i[0]<='Z':\n",
    "        a.append(i)\n",
    "        \n",
    "print('Output:',a)\n",
    "        \n",
    "    "
   ]
  },
  {
   "cell_type": "code",
   "execution_count": 28,
   "id": "af4052e9",
   "metadata": {},
   "outputs": [
    {
     "name": "stdout",
     "output_type": "stream",
     "text": [
      "Output: {8, 3}\n"
     ]
    }
   ],
   "source": [
    "# question 7 answer\n",
    "\n",
    "given_sets=[[1,2,3,4,8],[2,3,8,5,6],[8,4,5,3,7],[6,9,8,3],[9,12,3,7,6,8,4,6,21,1,6]]\n",
    "l=[]\n",
    "for i in given_sets:\n",
    "    l.append(set(i))\n",
    "x=l[0]\n",
    "for i in range(1,len(l)-1):\n",
    "    x=x.intersection(l[i+1])\n",
    "print('Output:',x)\n",
    "    \n",
    "        "
   ]
  },
  {
   "cell_type": "code",
   "execution_count": 33,
   "id": "e0eb4b8c",
   "metadata": {},
   "outputs": [
    {
     "name": "stdout",
     "output_type": "stream",
     "text": [
      "Output [9, 72, 504, 3024, 15120]\n"
     ]
    }
   ],
   "source": [
    "# question 8 answer\n",
    "\n",
    "from itertools import accumulate\n",
    "import operator\n",
    "\n",
    "input_list=[9,8,7,6,5]\n",
    "\n",
    "x=lambda a: list(accumulate(a,operator.mul))\n",
    "\n",
    "print(\"Output\",x(input_list))\n"
   ]
  },
  {
   "cell_type": "code",
   "execution_count": 30,
   "id": "2df6ccaa",
   "metadata": {},
   "outputs": [
    {
     "name": "stdout",
     "output_type": "stream",
     "text": [
      "Output: ['TRUE', 'FALSE', 'TRUE', 'FALSE', 'FALSE']\n"
     ]
    }
   ],
   "source": [
    "# question 9 answer\n",
    "\n",
    "lsbool=['True','FALse','tRUe','False','faLse']\n",
    "\n",
    "x=lambda a:a.upper()\n",
    "a=[]\n",
    "\n",
    "for i in lsbool:\n",
    "    a.append(x(i))\n",
    "print('Output:',a)"
   ]
  },
  {
   "cell_type": "code",
   "execution_count": 49,
   "id": "9ad86d97",
   "metadata": {},
   "outputs": [
    {
     "name": "stdout",
     "output_type": "stream",
     "text": [
      "Output: ['1997', '2011', '1993', '2020']\n"
     ]
    }
   ],
   "source": [
    "# question 10 answer\n",
    "\n",
    "dateList=['17-12-1997','22-04-2011','01-05-1993','19-06-2020']\n",
    "l=[]\n",
    "for i in dateList:\n",
    "    x=i.split('-')\n",
    "    l.append(x[2])\n",
    "print('Output:',l)\n"
   ]
  },
  {
   "cell_type": "code",
   "execution_count": null,
   "id": "fce2dab4",
   "metadata": {},
   "outputs": [],
   "source": []
  }
 ],
 "metadata": {
  "kernelspec": {
   "display_name": "Python 3 (ipykernel)",
   "language": "python",
   "name": "python3"
  },
  "language_info": {
   "codemirror_mode": {
    "name": "ipython",
    "version": 3
   },
   "file_extension": ".py",
   "mimetype": "text/x-python",
   "name": "python",
   "nbconvert_exporter": "python",
   "pygments_lexer": "ipython3",
   "version": "3.9.7"
  }
 },
 "nbformat": 4,
 "nbformat_minor": 5
}
